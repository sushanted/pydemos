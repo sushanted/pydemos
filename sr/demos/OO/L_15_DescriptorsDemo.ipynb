{
 "cells": [
  {
   "cell_type": "markdown",
   "id": "930788c3-6925-42ae-8cdf-2ea3c2b8cd33",
   "metadata": {},
   "source": [
    "### Descriptor protocol"
   ]
  },
  {
   "cell_type": "markdown",
   "id": "dc6676a5-d9c3-47b8-b997-171cc45eb7cd",
   "metadata": {},
   "source": [
    " Data-Descriptor is a class which implements any of \\_\\_get__ and ( \\_\\_set__ or \\_\\_delete__) methods\n",
    "\n",
    " 1. Whenever a class level attribute is accessed using an instance (e.g. class_instance.attr) and the attribute (attr)\n",
    " is already an instance of a descriptor class , attr.\\_\\_get__(class_instance,class) is called\n",
    " and the return value of \\_\\_get__ is returned to the accessor.\n",
    "\n",
    " 2. Whenever a class level attribute is assigned using an instance (e.g. class_instance.attr = new_value) and\n",
    "  the attribute (attr) is already an instance of a descriptor class , attr.\\_\\_set__(class_instance,value) is called\n",
    "\n",
    " 3. Whenever a class level attribute is deleted using an instance (e.g. del class_instance.attr) and the attribute (attr)\n",
    "  is already an instance of a descriptor class , attr.\\_\\_delete__(class_instance) is called"
   ]
  },
  {
   "cell_type": "markdown",
   "id": "50bc7f4b-07e0-496a-ae59-2526fea353bd",
   "metadata": {},
   "source": [
    "### A sample descriptor:"
   ]
  },
  {
   "cell_type": "code",
   "execution_count": 1,
   "id": "58b2b2e3-cfb0-45cc-8997-bf6026fe8761",
   "metadata": {},
   "outputs": [],
   "source": [
    "class LoggingDescriptor:\n",
    "\n",
    "    def __init__(self, property_name):\n",
    "        print(f\"Descriptor got created for property : {property_name}\")\n",
    "        self.property_name = property_name\n",
    "\n",
    "    # Note : the instance is the instance of the class for which the attribute is being set\n",
    "    # owner is the class : useful in inheritance\n",
    "    def __get__(self, instance, owner):\n",
    "        print(f\"Somebody asked for the value for {self.property_name} using class {owner}\")\n",
    "        if not instance:\n",
    "            print(\"But didn't provide an instance!\")\n",
    "            return None\n",
    "        return instance.__dict__.get(self.property_name)\n",
    "\n",
    "    def __set__(self, instance, value):\n",
    "        print(f\"Somebody is changing the value for {self.property_name} with {value}\")\n",
    "        instance.__dict__[self.property_name] = value\n",
    "\n",
    "    def __delete__(self, instance):\n",
    "        print(f\"Somebody is deleting value for {self.property_name}\")\n",
    "        del instance.__dict__[self.property_name]"
   ]
  },
  {
   "cell_type": "code",
   "execution_count": 2,
   "id": "3be688d6-c087-4c6d-b691-d753ba2edfe4",
   "metadata": {},
   "outputs": [
    {
     "name": "stdout",
     "output_type": "stream",
     "text": [
      "Descriptor got created for property : name\n",
      "Descriptor got created for property : age\n"
     ]
    }
   ],
   "source": [
    "class Person:\n",
    "    # Note the descriptors are always assigned to class level attributes, but come into action when those attributes\n",
    "    # are accessed/assigned/deleted using instance of the class (OR accessed through class name)\n",
    "    # Also note that : We have created a separate descriptor for each attribute\n",
    "    name = LoggingDescriptor(\"name\")\n",
    "    age = LoggingDescriptor(\"age\")\n",
    "\n",
    "    def __init__(self, name, age):\n",
    "        # descriptors __set__ will be called with instance=self and value={name}/{age}\n",
    "        self.name = name\n",
    "        self.age = age"
   ]
  },
  {
   "cell_type": "code",
   "execution_count": 3,
   "id": "a644a8ce-d8c1-4128-8a8a-febade1d34a2",
   "metadata": {},
   "outputs": [
    {
     "name": "stdout",
     "output_type": "stream",
     "text": [
      "Somebody is changing the value for name with Ajay\n",
      "Somebody is changing the value for age with 45\n",
      "Somebody is changing the value for name with Vijay\n",
      "Somebody is changing the value for age with 23\n"
     ]
    }
   ],
   "source": [
    "ajay = Person(\"Ajay\", 45)\n",
    "vijay = Person(\"Vijay\", 23)"
   ]
  },
  {
   "cell_type": "code",
   "execution_count": 4,
   "id": "62dc6f03-349e-437f-8f35-13dfb1c2f46e",
   "metadata": {},
   "outputs": [
    {
     "name": "stdout",
     "output_type": "stream",
     "text": [
      "Somebody asked for the value for name using class <class '__main__.Person'>\n",
      "Ajay\n",
      "Somebody is changing the value for age with 53\n",
      "Somebody asked for the value for name using class <class '__main__.Person'>\n",
      "Somebody asked for the value for age using class <class '__main__.Person'>\n",
      "Ajay 53\n",
      "Somebody is deleting value for name\n",
      "Somebody is deleting value for age\n"
     ]
    }
   ],
   "source": [
    "# calls the descriptors __get__\n",
    "print(ajay.name)\n",
    "# calls the descriptors __set__(ajay,53)\n",
    "ajay.age = 53\n",
    "# calls the descriptors __get__(ajay,Person)\n",
    "print(ajay.name, ajay.age)\n",
    "# calls the descriptors __delete__(ajay)\n",
    "del ajay.name, ajay.age"
   ]
  },
  {
   "cell_type": "code",
   "execution_count": 5,
   "id": "f85f56c4-fffc-46fa-b437-d14e96e626ec",
   "metadata": {},
   "outputs": [
    {
     "name": "stdout",
     "output_type": "stream",
     "text": [
      "Somebody asked for the value for name using class <class '__main__.Person'>\n",
      "Somebody asked for the value for age using class <class '__main__.Person'>\n",
      "Vijay 23\n"
     ]
    }
   ],
   "source": [
    "# different person will have different values for properties (as we store the values in instance.__dict__)\n",
    "print(vijay.name, vijay.age)"
   ]
  },
  {
   "cell_type": "markdown",
   "id": "9c5caef3-d96c-434d-9ee3-1cf7035eae36",
   "metadata": {},
   "source": [
    "### Using descriptors for encapsulations (what we actually do in getter/setter in java)"
   ]
  },
  {
   "cell_type": "code",
   "execution_count": 7,
   "id": "925ca3ec-e5e6-4614-aa2e-65b7104b6953",
   "metadata": {},
   "outputs": [],
   "source": [
    "class AgeValidationDescriptor:\n",
    "    property_name = 'age'\n",
    "\n",
    "    def __get__(self, instance, owner):\n",
    "        return instance.__dict__.get(self.property_name)\n",
    "\n",
    "    def __set__(self, instance, age):\n",
    "        if age < 0 or age > 150:\n",
    "            raise ValueError('Age should be between 0 to 150')\n",
    "        instance.__dict__[self.property_name] = age\n"
   ]
  },
  {
   "cell_type": "code",
   "execution_count": 8,
   "id": "2b833930-d0b6-46d7-98c9-086575c1e720",
   "metadata": {},
   "outputs": [],
   "source": [
    "class NameDescriptor:\n",
    "    property_name = 'name'\n",
    "\n",
    "    def __get__(self, instance, owner):\n",
    "        return instance.__dict__.get(self.property_name)\n",
    "\n",
    "    def __set__(self, instance, name):\n",
    "        if self.property_name in instance.__dict__:\n",
    "            raise ValueError(\"Name already set\")\n",
    "        instance.__dict__[self.property_name] = name"
   ]
  },
  {
   "cell_type": "code",
   "execution_count": 9,
   "id": "3a15a894-1510-4cbf-ab06-42d0474f4031",
   "metadata": {},
   "outputs": [],
   "source": [
    "class ValidPerson:\n",
    "    name = NameDescriptor()\n",
    "    age = AgeValidationDescriptor()\n",
    "\n",
    "    def __str__(self):\n",
    "        return f\"{self.name}({self.age})\""
   ]
  },
  {
   "cell_type": "code",
   "execution_count": 10,
   "id": "9f979a69-c8a0-434a-b204-33f89de91dca",
   "metadata": {},
   "outputs": [
    {
     "name": "stdout",
     "output_type": "stream",
     "text": [
      "Valid person:  Pradeep(23)\n"
     ]
    }
   ],
   "source": [
    "pradeep = ValidPerson()\n",
    "\n",
    "pradeep.name = 'Pradeep'\n",
    "pradeep.age = 23\n",
    "\n",
    "print(\"Valid person: \", pradeep)"
   ]
  },
  {
   "cell_type": "markdown",
   "id": "3afe338c-c580-4a29-a128-7d13ae0aa7e9",
   "metadata": {},
   "source": [
    "#### Now let's break the rules"
   ]
  },
  {
   "cell_type": "code",
   "execution_count": 11,
   "id": "44ed81c6-36bd-4524-a742-dcdbaf91b64c",
   "metadata": {},
   "outputs": [
    {
     "name": "stdout",
     "output_type": "stream",
     "text": [
      "Trying to reset the name of the person:\n",
      "Name already set\n"
     ]
    }
   ],
   "source": [
    "try:\n",
    "    print(\"Trying to reset the name of the person:\")\n",
    "    pradeep.name = 'Akshay'\n",
    "except ValueError as v:\n",
    "    print(v)"
   ]
  },
  {
   "cell_type": "code",
   "execution_count": 12,
   "id": "e28bd4d6-951c-48ba-a68e-4ee14e11a00e",
   "metadata": {},
   "outputs": [
    {
     "name": "stdout",
     "output_type": "stream",
     "text": [
      "Trying to set a negative age:\n",
      "Age should be between 0 to 150\n"
     ]
    }
   ],
   "source": [
    "try:\n",
    "    print(\"Trying to set a negative age:\")\n",
    "    pradeep.age = -45\n",
    "except ValueError as v:\n",
    "    print(v)"
   ]
  },
  {
   "cell_type": "code",
   "execution_count": 13,
   "id": "f379d62a-a5dc-4fd9-89d7-a4b426fad3ce",
   "metadata": {},
   "outputs": [
    {
     "name": "stdout",
     "output_type": "stream",
     "text": [
      "Person still valid:  Pradeep(23)\n"
     ]
    }
   ],
   "source": [
    "print(\"Person still valid: \", pradeep)"
   ]
  },
  {
   "cell_type": "markdown",
   "id": "cc43130d-acba-46fd-974c-6ebd5fbe9b77",
   "metadata": {},
   "source": [
    "##### Above code style looks good for generic descriptors like logging, timing etc, but not suitable for specific encapsulation, it looks overkill to create a new descriptor for each attribute"
   ]
  },
  {
   "cell_type": "markdown",
   "id": "b97083c5-28cb-4357-aff5-c4fb0d1360ba",
   "metadata": {},
   "source": [
    "### Using descriptors like java style"
   ]
  },
  {
   "cell_type": "code",
   "execution_count": 14,
   "id": "09f3781a-9123-4018-8b1c-d57cc5aff07e",
   "metadata": {},
   "outputs": [],
   "source": [
    "# TODO"
   ]
  },
  {
   "cell_type": "code",
   "execution_count": null,
   "id": "a75b1ce2-dd71-4590-b155-393e6e2bab54",
   "metadata": {},
   "outputs": [],
   "source": []
  }
 ],
 "metadata": {
  "kernelspec": {
   "display_name": "Python 3",
   "language": "python",
   "name": "python3"
  },
  "language_info": {
   "codemirror_mode": {
    "name": "ipython",
    "version": 3
   },
   "file_extension": ".py",
   "mimetype": "text/x-python",
   "name": "python",
   "nbconvert_exporter": "python",
   "pygments_lexer": "ipython3",
   "version": "3.8.1"
  }
 },
 "nbformat": 4,
 "nbformat_minor": 5
}
