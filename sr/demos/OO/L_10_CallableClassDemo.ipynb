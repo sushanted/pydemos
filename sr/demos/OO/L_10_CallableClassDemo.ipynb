{
 "cells": [
  {
   "cell_type": "code",
   "execution_count": 1,
   "id": "371fa99b-948b-4323-b31a-e9f225f635e8",
   "metadata": {},
   "outputs": [],
   "source": [
    "class Callable:\n",
    "\n",
    "    def __call__(self,*args):\n",
    "        print(\"callable called with args: \"+str(args))"
   ]
  },
  {
   "cell_type": "code",
   "execution_count": 2,
   "id": "292bd3de-99f2-472f-a5d1-972798c78587",
   "metadata": {},
   "outputs": [],
   "source": [
    "callable_instance = Callable()"
   ]
  },
  {
   "cell_type": "markdown",
   "id": "ee811747-d202-412b-ac86-cb201d522a5a",
   "metadata": {},
   "source": [
    "#### Now onwards callable_instance will behave as a regular method"
   ]
  },
  {
   "cell_type": "markdown",
   "id": "a6886d57-4260-4748-82be-69faf8413430",
   "metadata": {},
   "source": [
    "#### Note : we can compare this to a functional interface like Callable, Runnable in java. We can call the method run/call on those interface instances. The operator \"()\" is same as calling the single method in the functional interface."
   ]
  },
  {
   "cell_type": "code",
   "execution_count": 3,
   "id": "41e64601-4d0d-49a3-8c57-e3c10092bf98",
   "metadata": {},
   "outputs": [
    {
     "name": "stdout",
     "output_type": "stream",
     "text": [
      "callable called with args: ()\n"
     ]
    }
   ],
   "source": [
    "callable_instance() # () after the instance name calls the __call__ method of the class"
   ]
  },
  {
   "cell_type": "code",
   "execution_count": 4,
   "id": "ad400bfa-a1e4-4bdc-8ade-692b0a818c95",
   "metadata": {},
   "outputs": [
    {
     "name": "stdout",
     "output_type": "stream",
     "text": [
      "callable called with args: (1, 2, 'value')\n"
     ]
    }
   ],
   "source": [
    "callable_instance(1,2,'value')"
   ]
  },
  {
   "cell_type": "code",
   "execution_count": 5,
   "id": "b69766d5-258a-4e4e-98d6-e0b61b7f2318",
   "metadata": {},
   "outputs": [],
   "source": [
    "class CallCounter:\n",
    "    def __init__(self):\n",
    "        self.call_count = 0\n",
    "    def __call__(self):\n",
    "        self.call_count += 1\n",
    "        print(f\"this is call number : {self.call_count}\") "
   ]
  },
  {
   "cell_type": "code",
   "execution_count": 6,
   "id": "f1f4d9af-b286-4ffa-a046-8fc2f98d08a2",
   "metadata": {},
   "outputs": [
    {
     "name": "stdout",
     "output_type": "stream",
     "text": [
      "this is call number : 1\n"
     ]
    }
   ],
   "source": [
    "call_counter_instance = CallCounter()\n",
    "\n",
    "call_counter_instance()"
   ]
  },
  {
   "cell_type": "code",
   "execution_count": 7,
   "id": "5f077f93-729b-4ea0-b1ef-e2c2af3a37a1",
   "metadata": {},
   "outputs": [
    {
     "name": "stdout",
     "output_type": "stream",
     "text": [
      "this is call number : 2\n"
     ]
    }
   ],
   "source": [
    "call_counter_instance()"
   ]
  },
  {
   "cell_type": "code",
   "execution_count": 8,
   "id": "39736ce9-cdb3-4f00-a38f-fd9cdf3530d8",
   "metadata": {},
   "outputs": [
    {
     "name": "stdout",
     "output_type": "stream",
     "text": [
      "this is call number : 3\n",
      "this is call number : 4\n",
      "this is call number : 5\n",
      "this is call number : 6\n",
      "this is call number : 7\n"
     ]
    }
   ],
   "source": [
    "for i in range(5):\n",
    "    call_counter_instance()"
   ]
  },
  {
   "cell_type": "code",
   "execution_count": 9,
   "id": "8c495da7-5c62-483f-850c-d4ff9b27b73f",
   "metadata": {},
   "outputs": [
    {
     "name": "stdout",
     "output_type": "stream",
     "text": [
      "this is call number : 1\n"
     ]
    }
   ],
   "source": [
    "call_counter_instance_2 = CallCounter() # This is now another instance, counting will be done separately for this instance\n",
    "\n",
    "call_counter_instance_2()"
   ]
  },
  {
   "cell_type": "code",
   "execution_count": null,
   "id": "b4ac99ca-975b-40d3-a71b-888bc65ecf6c",
   "metadata": {},
   "outputs": [],
   "source": []
  }
 ],
 "metadata": {
  "kernelspec": {
   "display_name": "Python 3",
   "language": "python",
   "name": "python3"
  },
  "language_info": {
   "codemirror_mode": {
    "name": "ipython",
    "version": 3
   },
   "file_extension": ".py",
   "mimetype": "text/x-python",
   "name": "python",
   "nbconvert_exporter": "python",
   "pygments_lexer": "ipython3",
   "version": "3.8.1"
  }
 },
 "nbformat": 4,
 "nbformat_minor": 5
}
