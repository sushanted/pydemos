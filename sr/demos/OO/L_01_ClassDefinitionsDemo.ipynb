{
 "cells": [
  {
   "cell_type": "markdown",
   "id": "3da3c95b-fb6d-4ff1-9698-7a85520bc158",
   "metadata": {},
   "source": [
    "### Everything in python is an object, even primitives"
   ]
  },
  {
   "cell_type": "code",
   "execution_count": 1,
   "id": "35bbd3cd-e85f-40a0-a74e-8d75ab3bf038",
   "metadata": {},
   "outputs": [
    {
     "name": "stdout",
     "output_type": "stream",
     "text": [
      "<class 'bool'>\n",
      "<class 'int'>\n",
      "<class 'str'>\n",
      "<class 'list'>\n"
     ]
    }
   ],
   "source": [
    "print(type(True))\n",
    "print(type(5))\n",
    "print(type('str'))\n",
    "print(type(['x']))\n"
   ]
  },
  {
   "cell_type": "code",
   "execution_count": 3,
   "id": "4b0bfef2-9b95-4566-a302-d52985a6e9bb",
   "metadata": {},
   "outputs": [
    {
     "name": "stdout",
     "output_type": "stream",
     "text": [
      "<class 'function'>\n",
      "<class 'module'>\n"
     ]
    }
   ],
   "source": [
    "import math\n",
    "\n",
    "def fun(): pass\n",
    "\n",
    "print(type(fun)) # class: function\n",
    "\n",
    "print(type(math)) # class: module"
   ]
  },
  {
   "cell_type": "markdown",
   "id": "cc55da04-9942-4038-8f9e-5ba37dc40666",
   "metadata": {},
   "source": [
    "### Simple class definition"
   ]
  },
  {
   "cell_type": "code",
   "execution_count": 4,
   "id": "6afdd9a6-1678-47dc-97e1-0018bfc5c5a0",
   "metadata": {},
   "outputs": [
    {
     "name": "stdout",
     "output_type": "stream",
     "text": [
      "Hello world\n"
     ]
    }
   ],
   "source": [
    "\n",
    "\n",
    "\n",
    "# A simple class definition\n",
    "class SimpleClass:\n",
    "    # Class level variable (like static in Java)\n",
    "    world = \"world\"\n",
    "\n",
    "    # Method definition\n",
    "    # It must take first argument as self, consider self as class's namespace\n",
    "    def hello(self):\n",
    "        print(\"Hello \" + self.world)\n",
    "\n",
    "\n",
    "# Object(Instance) creation\n",
    "simple_class_object = SimpleClass()\n",
    "# calling method\n",
    "simple_class_object.hello()"
   ]
  },
  {
   "cell_type": "code",
   "execution_count": null,
   "id": "6cce3efe-3d69-4691-acb3-8df7ef919584",
   "metadata": {},
   "outputs": [],
   "source": []
  }
 ],
 "metadata": {
  "kernelspec": {
   "display_name": "Python 3",
   "language": "python",
   "name": "python3"
  },
  "language_info": {
   "codemirror_mode": {
    "name": "ipython",
    "version": 3
   },
   "file_extension": ".py",
   "mimetype": "text/x-python",
   "name": "python",
   "nbconvert_exporter": "python",
   "pygments_lexer": "ipython3",
   "version": "3.8.1"
  }
 },
 "nbformat": 4,
 "nbformat_minor": 5
}
