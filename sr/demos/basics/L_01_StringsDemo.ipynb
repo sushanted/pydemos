{
 "cells": [
  {
   "cell_type": "code",
   "execution_count": 1,
   "metadata": {},
   "outputs": [
    {
     "name": "stdout",
     "output_type": "stream",
     "text": [
      "inside double\n",
      "inside single\n",
      "'single' inside \"double\"\n",
      "\"double\" inside 'single'\n",
      "old\tline\n",
      "new\tline\"quoted\"\n",
      "old\\tline\\nnew\\tline\n",
      " This can span\n",
      "MANY\n",
      "multiple lines\n",
      " This can span MANY multiple lines\n",
      "way1\n",
      "way2 works with only literals not variables\n"
     ]
    }
   ],
   "source": [
    "# both single and double quotes work for strings\n",
    "\n",
    "print(\"inside double\")\n",
    "\n",
    "print('inside single')\n",
    "\n",
    "print(\"'single' inside \\\"double\\\"\")\n",
    "\n",
    "print('\"double\" inside \\'single\\'')\n",
    "\n",
    "# \\ has special meaning\n",
    "print(\"old\\tline\\nnew\\tline\\\"quoted\\\"\")\n",
    "\n",
    "# escaped \\\n",
    "print(\"old\\\\tline\\\\nnew\\\\tline\")\n",
    "\n",
    "# multi-line\n",
    "print(\"\"\" This can span\n",
    "MANY\n",
    "multiple lines\"\"\")\n",
    "\n",
    "# multi-line string : escaped newline characters\n",
    "print(\"\"\" This can span \\\n",
    "MANY \\\n",
    "multiple lines\"\"\")\n",
    "\n",
    "# concatenation\n",
    "print(\"way\" + '1')\n",
    "print(\"way\" '2' \" works with only literals not variables\")\n"
   ]
  },
  {
   "cell_type": "code",
   "execution_count": 2,
   "metadata": {},
   "outputs": [
    {
     "name": "stdout",
     "output_type": "stream",
     "text": [
      "old\\tline\\nnew\\tline\\\"quoted\\\"\n"
     ]
    }
   ],
   "source": [
    "# r : raw text : \\ has no special meaning : printed as is : even the escape is also printed\n",
    "# Useful with regex\n",
    "print(r\"old\\tline\\nnew\\tline\\\"quoted\\\"\")"
   ]
  },
  {
   "cell_type": "code",
   "execution_count": 3,
   "metadata": {},
   "outputs": [
    {
     "name": "stdout",
     "output_type": "stream",
     "text": [
      "____________________________________________________________________________________________________\n"
     ]
    }
   ],
   "source": [
    "# multiply\n",
    "print(\"_\" * 100)"
   ]
  },
  {
   "cell_type": "markdown",
   "metadata": {},
   "source": [
    "### Indexing Demos"
   ]
  },
  {
   "cell_type": "code",
   "execution_count": 4,
   "metadata": {},
   "outputs": [],
   "source": [
    "word = \"01234\";"
   ]
  },
  {
   "cell_type": "code",
   "execution_count": 5,
   "metadata": {},
   "outputs": [
    {
     "name": "stdout",
     "output_type": "stream",
     "text": [
      "word[3]= 3\n"
     ]
    }
   ],
   "source": [
    "print(\"word[3]=\", word[3])"
   ]
  },
  {
   "cell_type": "code",
   "execution_count": 6,
   "metadata": {},
   "outputs": [
    {
     "name": "stdout",
     "output_type": "stream",
     "text": [
      "word[-1]= 4\n"
     ]
    }
   ],
   "source": [
    "# last char\n",
    "print(\"word[-1]=\", word[-1])"
   ]
  },
  {
   "cell_type": "code",
   "execution_count": 7,
   "metadata": {},
   "outputs": [
    {
     "name": "stdout",
     "output_type": "stream",
     "text": [
      "word[1:3]= 12\n"
     ]
    }
   ],
   "source": [
    "# range : include first index, exclude second index\n",
    "print(\"word[1:3]=\", word[1:3])"
   ]
  },
  {
   "cell_type": "code",
   "execution_count": 8,
   "metadata": {},
   "outputs": [
    {
     "name": "stdout",
     "output_type": "stream",
     "text": [
      "word[:3]= 012\n"
     ]
    }
   ],
   "source": [
    "# till n (excluding n)\n",
    "print(\"word[:3]=\", word[:3])"
   ]
  },
  {
   "cell_type": "code",
   "execution_count": 9,
   "metadata": {},
   "outputs": [
    {
     "name": "stdout",
     "output_type": "stream",
     "text": [
      "word[3:]= 34\n"
     ]
    }
   ],
   "source": [
    "# from n (including n)\n",
    "print(\"word[3:]=\", word[3:])"
   ]
  },
  {
   "cell_type": "code",
   "execution_count": 10,
   "metadata": {},
   "outputs": [
    {
     "name": "stdout",
     "output_type": "stream",
     "text": [
      "word[:3]+word[3:]= 01234\n"
     ]
    }
   ],
   "source": [
    "# Complete word\n",
    "print(\"word[:3]+word[3:]=\", word[:3] + word[3:])"
   ]
  },
  {
   "cell_type": "code",
   "execution_count": 11,
   "metadata": {},
   "outputs": [
    {
     "name": "stderr",
     "output_type": "stream",
     "text": [
      "Traceback (most recent call last):\n",
      "  File \"<stdin>\", line 1, in <module>\n",
      "NameError: name 'word' is not defined\n"
     ]
    }
   ],
   "source": [
    "%%script python --no-raise-error\n",
    "print(\"word[2000]=\",word[2000])"
   ]
  },
  {
   "cell_type": "code",
   "execution_count": 12,
   "metadata": {},
   "outputs": [
    {
     "name": "stderr",
     "output_type": "stream",
     "text": [
      "Traceback (most recent call last):\n",
      "  File \"<stdin>\", line 1, in <module>\n",
      "NameError: name 'word' is not defined\n"
     ]
    }
   ],
   "source": [
    "%%script python --no-raise-error\n",
    "word[3] = '9'"
   ]
  },
  {
   "cell_type": "code",
   "execution_count": 13,
   "metadata": {},
   "outputs": [
    {
     "name": "stderr",
     "output_type": "stream",
     "text": [
      "Traceback (most recent call last):\n",
      "  File \"<stdin>\", line 1, in <module>\n",
      "NameError: name 'word' is not defined\n"
     ]
    }
   ],
   "source": [
    "%%script python --no-raise-error\n",
    "word[2:3] = '10'"
   ]
  },
  {
   "cell_type": "code",
   "execution_count": 14,
   "metadata": {},
   "outputs": [
    {
     "name": "stdout",
     "output_type": "stream",
     "text": [
      "length 5\n"
     ]
    }
   ],
   "source": [
    "# length\n",
    "print(\"length\", len(word))"
   ]
  },
  {
   "cell_type": "markdown",
   "metadata": {},
   "source": [
    "### Formatting"
   ]
  },
  {
   "cell_type": "code",
   "execution_count": 15,
   "metadata": {},
   "outputs": [],
   "source": [
    "name = 'Tom'\n",
    "age = 44.234"
   ]
  },
  {
   "cell_type": "code",
   "execution_count": 16,
   "metadata": {},
   "outputs": [
    {
     "name": "stdout",
     "output_type": "stream",
     "text": [
      "Tom is 44.234 years old\n"
     ]
    }
   ],
   "source": [
    "# Variable interpolation\n",
    "print(f'{name} is {age} years old')\n"
   ]
  },
  {
   "cell_type": "code",
   "execution_count": 17,
   "metadata": {},
   "outputs": [
    {
     "name": "stdout",
     "output_type": "stream",
     "text": [
      "tom\n"
     ]
    }
   ],
   "source": [
    "print(f'{name.lower()}')"
   ]
  },
  {
   "cell_type": "code",
   "execution_count": 18,
   "metadata": {},
   "outputs": [
    {
     "name": "stdout",
     "output_type": "stream",
     "text": [
      "4\n"
     ]
    }
   ],
   "source": [
    "a = 4\n",
    "b = f'{a}'\n",
    "c = f'{b}'\n",
    "print(c)"
   ]
  },
  {
   "cell_type": "code",
   "execution_count": 19,
   "metadata": {},
   "outputs": [
    {
     "name": "stdout",
     "output_type": "stream",
     "text": [
      "Tom is    44.23 years old\n",
      "44.234 is the  age of Tom\n"
     ]
    }
   ],
   "source": [
    "# Logger kind format\n",
    "print(\"{} is {:8.4} years old\".format(name, age))  # 8 chars with spaces, total 4 digits\n",
    "print(\"{1} is the  age of {0}\".format(name, age))"
   ]
  },
  {
   "cell_type": "code",
   "execution_count": 20,
   "metadata": {},
   "outputs": [
    {
     "name": "stdout",
     "output_type": "stream",
     "text": [
      "number     3.420\n",
      "number 123.424\n"
     ]
    }
   ],
   "source": [
    "# String modulo operator: this is like printf but it is an operation in string and not related to the print function\n",
    "print(\"number %9.3f\" % (3.42))  # 9 chars including spaces, 3 digits\n",
    "print(\"number %2.3f\" % (123.42395))  # 9 chars including spaces, 3 digits"
   ]
  },
  {
   "cell_type": "code",
   "execution_count": 21,
   "metadata": {},
   "outputs": [
    {
     "name": "stdout",
     "output_type": "stream",
     "text": [
      "number in hex 0x0000159\n"
     ]
    }
   ],
   "source": [
    "# 0: padd the value with 0 #: print the 0x, x:convert it to hex, 9: print 7 chars including zeros(or spaces) before\n",
    "print(\"number in hex %0#9x\" % 345)  # 0x0000159"
   ]
  },
  {
   "cell_type": "code",
   "execution_count": 22,
   "metadata": {},
   "outputs": [
    {
     "name": "stdout",
     "output_type": "stream",
     "text": [
      "A simple sentence."
     ]
    }
   ],
   "source": [
    "# Separate values with a space and append full stop after the last value.\n",
    "print(\"A\", \"simple\", \"sentence\", sep=' ', end='.')"
   ]
  },
  {
   "cell_type": "code",
   "execution_count": 24,
   "metadata": {},
   "outputs": [
    {
     "name": "stdout",
     "output_type": "stream",
     "text": [
      "str\n"
     ]
    }
   ],
   "source": []
  },
  {
   "cell_type": "code",
   "execution_count": null,
   "metadata": {},
   "outputs": [],
   "source": []
  }
 ],
 "metadata": {
  "kernelspec": {
   "display_name": "Python 3",
   "language": "python",
   "name": "python3"
  },
  "language_info": {
   "codemirror_mode": {
    "name": "ipython",
    "version": 3
   },
   "file_extension": ".py",
   "mimetype": "text/x-python",
   "name": "python",
   "nbconvert_exporter": "python",
   "pygments_lexer": "ipython3",
   "version": "3.8.1"
  }
 },
 "nbformat": 4,
 "nbformat_minor": 4
}
