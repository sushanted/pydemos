{
 "cells": [
  {
   "cell_type": "markdown",
   "id": "d7f45de7-02c0-4ed9-8385-59a3dffedec0",
   "metadata": {},
   "source": [
    "## Iterables"
   ]
  },
  {
   "cell_type": "code",
   "execution_count": 1,
   "id": "842959e2-6e94-4279-81d1-69c8f166b0e5",
   "metadata": {},
   "outputs": [],
   "source": [
    "### iterable types"
   ]
  },
  {
   "cell_type": "code",
   "execution_count": 2,
   "id": "b58908a6-05a7-4824-8856-ec3c6bd76e07",
   "metadata": {},
   "outputs": [
    {
     "data": {
      "text/plain": [
       "list"
      ]
     },
     "execution_count": 2,
     "metadata": {},
     "output_type": "execute_result"
    }
   ],
   "source": [
    "type([])"
   ]
  },
  {
   "cell_type": "code",
   "execution_count": 3,
   "id": "471addf5-a801-4971-b774-2238361d261c",
   "metadata": {},
   "outputs": [
    {
     "data": {
      "text/plain": [
       "set"
      ]
     },
     "execution_count": 3,
     "metadata": {},
     "output_type": "execute_result"
    }
   ],
   "source": [
    "type({2})"
   ]
  },
  {
   "cell_type": "code",
   "execution_count": 4,
   "id": "f0e1dbdb-ade4-4520-8c2b-1f65069df110",
   "metadata": {},
   "outputs": [
    {
     "data": {
      "text/plain": [
       "tuple"
      ]
     },
     "execution_count": 4,
     "metadata": {},
     "output_type": "execute_result"
    }
   ],
   "source": [
    "type(())"
   ]
  },
  {
   "cell_type": "code",
   "execution_count": 5,
   "id": "1fd97128-c6fd-4dbc-8600-7f6efd69145e",
   "metadata": {},
   "outputs": [
    {
     "data": {
      "text/plain": [
       "dict"
      ]
     },
     "execution_count": 5,
     "metadata": {},
     "output_type": "execute_result"
    }
   ],
   "source": [
    "type({\"a\":4})"
   ]
  },
  {
   "cell_type": "code",
   "execution_count": 6,
   "id": "911eec1e-c1d5-4c6e-ba24-e8a6cd10a63c",
   "metadata": {},
   "outputs": [
    {
     "data": {
      "text/plain": [
       "9"
      ]
     },
     "execution_count": 6,
     "metadata": {},
     "output_type": "execute_result"
    }
   ],
   "source": [
    "sum((2,3,4))"
   ]
  },
  {
   "cell_type": "code",
   "execution_count": 7,
   "id": "0ce4f819-ab2d-4ebd-93cd-5848727dbfea",
   "metadata": {},
   "outputs": [
    {
     "data": {
      "text/plain": [
       "7"
      ]
     },
     "execution_count": 7,
     "metadata": {},
     "output_type": "execute_result"
    }
   ],
   "source": [
    "max([3,6,7])"
   ]
  },
  {
   "cell_type": "code",
   "execution_count": 8,
   "id": "2196a69c-b3ab-4149-93d5-95bc7f46538d",
   "metadata": {},
   "outputs": [
    {
     "data": {
      "text/plain": [
       "3"
      ]
     },
     "execution_count": 8,
     "metadata": {},
     "output_type": "execute_result"
    }
   ],
   "source": [
    "min({3,4,6})"
   ]
  },
  {
   "cell_type": "code",
   "execution_count": null,
   "id": "887cd5e8-1077-46a0-8249-be3f7f4f4262",
   "metadata": {},
   "outputs": [],
   "source": []
  }
 ],
 "metadata": {
  "kernelspec": {
   "display_name": "Python 3",
   "language": "python",
   "name": "python3"
  },
  "language_info": {
   "codemirror_mode": {
    "name": "ipython",
    "version": 3
   },
   "file_extension": ".py",
   "mimetype": "text/x-python",
   "name": "python",
   "nbconvert_exporter": "python",
   "pygments_lexer": "ipython3",
   "version": "3.8.1"
  }
 },
 "nbformat": 4,
 "nbformat_minor": 5
}
