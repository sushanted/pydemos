{
 "cells": [
  {
   "cell_type": "code",
   "execution_count": null,
   "id": "0514102f-5b21-4b67-b223-ee2c8f9de862",
   "metadata": {},
   "outputs": [],
   "source": [
    "\n"
   ]
  },
  {
   "cell_type": "markdown",
   "id": "c53e3051-530f-4a54-a567-db0ac2a9cd04",
   "metadata": {},
   "source": [
    "### Basics"
   ]
  },
  {
   "cell_type": "markdown",
   "id": "a621faf6-8912-46af-8bd5-98bbb27edc10",
   "metadata": {},
   "source": [
    "#### definition"
   ]
  },
  {
   "cell_type": "code",
   "execution_count": 1,
   "id": "64219e6a-d951-4a8a-aeb2-0e601d497c13",
   "metadata": {},
   "outputs": [],
   "source": [
    "def fun(x, y):\n",
    "    print(x + y)"
   ]
  },
  {
   "cell_type": "markdown",
   "id": "5d5acb78-a9eb-4549-8d35-752d848edbe7",
   "metadata": {},
   "source": [
    "#### call"
   ]
  },
  {
   "cell_type": "code",
   "execution_count": 2,
   "id": "d65d93d7-7b4c-4f02-88dc-4ae338c600b3",
   "metadata": {},
   "outputs": [
    {
     "name": "stdout",
     "output_type": "stream",
     "text": [
      "7\n"
     ]
    }
   ],
   "source": [
    "fun(3,4)"
   ]
  },
  {
   "cell_type": "markdown",
   "id": "27119cac-69ca-42e6-b135-2408a483c4b2",
   "metadata": {},
   "source": [
    "*NOTE: function can be references by its name and can be assigned to another variable*"
   ]
  },
  {
   "cell_type": "code",
   "execution_count": 3,
   "id": "ac8342f8-33a2-4134-8587-6055fc7f4c76",
   "metadata": {},
   "outputs": [],
   "source": [
    "var_fun = fun"
   ]
  },
  {
   "cell_type": "code",
   "execution_count": 4,
   "id": "cc72310a-e7bb-467a-ad98-4bb02438ae31",
   "metadata": {},
   "outputs": [
    {
     "name": "stdout",
     "output_type": "stream",
     "text": [
      "10\n"
     ]
    }
   ],
   "source": [
    "var_fun(4,6)"
   ]
  },
  {
   "cell_type": "markdown",
   "id": "f699d502-e78f-45ca-a8e0-8662c9e5950a",
   "metadata": {},
   "source": [
    "### Default arguments"
   ]
  },
  {
   "cell_type": "code",
   "execution_count": 5,
   "id": "303bc289-362b-4f25-88ba-074d7c4116a4",
   "metadata": {},
   "outputs": [],
   "source": [
    "def fun_default(number, multiple=1, msg='Multiplication'):\n",
    "    print((msg, number * multiple))"
   ]
  },
  {
   "cell_type": "code",
   "execution_count": 6,
   "id": "1d14c030-b0f3-44ae-a6ac-c933f6c538cd",
   "metadata": {},
   "outputs": [
    {
     "name": "stdout",
     "output_type": "stream",
     "text": [
      "('Multiplication', 3)\n"
     ]
    }
   ],
   "source": [
    "fun_default(3) # all args defaulted"
   ]
  },
  {
   "cell_type": "code",
   "execution_count": 7,
   "id": "b39448a2-1885-4d1e-bde2-1c7e221a199d",
   "metadata": {},
   "outputs": [
    {
     "name": "stdout",
     "output_type": "stream",
     "text": [
      "('Multiplication', 20)\n"
     ]
    }
   ],
   "source": [
    "fun_default(4,5) # msg is defaulted"
   ]
  },
  {
   "cell_type": "code",
   "execution_count": 8,
   "id": "ffd901de-c938-4809-859c-2a8bf107439b",
   "metadata": {},
   "outputs": [
    {
     "name": "stdout",
     "output_type": "stream",
     "text": [
      "('product', 6)\n"
     ]
    }
   ],
   "source": [
    "fun_default(2,3,\"product\")"
   ]
  },
  {
   "cell_type": "markdown",
   "id": "bf1c05b7-2ffc-4227-998f-d2f987afafdf",
   "metadata": {},
   "source": [
    "*NOTE: mutable default values would mutate with each mutating call and will be used in later calls*"
   ]
  },
  {
   "cell_type": "code",
   "execution_count": 9,
   "id": "86416583-c02d-49fb-8aa8-2bf40f95e0c6",
   "metadata": {},
   "outputs": [],
   "source": [
    "def fun_default_mutable(x, list=[]):\n",
    "    list.append(x)\n",
    "    print(\"after append\", list)"
   ]
  },
  {
   "cell_type": "code",
   "execution_count": 10,
   "id": "e1e34c21-8ea2-47a1-8b7e-ea811f65161c",
   "metadata": {},
   "outputs": [
    {
     "name": "stdout",
     "output_type": "stream",
     "text": [
      "after append [1]\n"
     ]
    }
   ],
   "source": [
    "fun_default_mutable(1)"
   ]
  },
  {
   "cell_type": "code",
   "execution_count": 11,
   "id": "1fb0e9dd-9acb-43dc-892c-d4838033cf65",
   "metadata": {},
   "outputs": [
    {
     "name": "stdout",
     "output_type": "stream",
     "text": [
      "after append [1, 2]\n"
     ]
    }
   ],
   "source": [
    "fun_default_mutable(2)"
   ]
  },
  {
   "cell_type": "code",
   "execution_count": 12,
   "id": "c696b932-d871-4a80-bbad-c900e24bfc6a",
   "metadata": {},
   "outputs": [
    {
     "name": "stdout",
     "output_type": "stream",
     "text": [
      "after append [1, 2, 3]\n"
     ]
    }
   ],
   "source": [
    "fun_default_mutable(3)"
   ]
  },
  {
   "cell_type": "code",
   "execution_count": 13,
   "id": "a86e3abb-bf4a-4487-98bd-8a6f5bc2d4bb",
   "metadata": {},
   "outputs": [
    {
     "name": "stdout",
     "output_type": "stream",
     "text": [
      "after append [4]\n"
     ]
    }
   ],
   "source": [
    "fun_default_mutable(4,[]) # use custom value"
   ]
  },
  {
   "cell_type": "code",
   "execution_count": 14,
   "id": "c13948f4-6cea-4e22-a15b-87a14f4bcdf2",
   "metadata": {},
   "outputs": [
    {
     "name": "stdout",
     "output_type": "stream",
     "text": [
      "after append [1, 2, 3, 5]\n"
     ]
    }
   ],
   "source": [
    "fun_default_mutable(5)  # continue using default value"
   ]
  },
  {
   "cell_type": "markdown",
   "id": "eba46332-5a03-42f6-a9bc-b2a5323cf3fa",
   "metadata": {},
   "source": [
    "### Keyword Parameters"
   ]
  },
  {
   "cell_type": "code",
   "execution_count": 15,
   "id": "8b5d4267-7b4b-415b-9c9b-a6589bb17e6b",
   "metadata": {},
   "outputs": [
    {
     "name": "stdout",
     "output_type": "stream",
     "text": [
      "('product', 6)\n"
     ]
    }
   ],
   "source": [
    "fun_default(6,msg='product')  # multiple is defaulted"
   ]
  },
  {
   "cell_type": "markdown",
   "id": "3886de52-9bbd-41d8-85fc-a439acd91cc4",
   "metadata": {},
   "source": [
    "*NOTE: position can be altered while calling, provided proper name is given*"
   ]
  },
  {
   "cell_type": "code",
   "execution_count": 16,
   "id": "f1e100f1-f4f5-4c95-b0ce-5412c460303c",
   "metadata": {},
   "outputs": [
    {
     "name": "stdout",
     "output_type": "stream",
     "text": [
      "('product', 27)\n"
     ]
    }
   ],
   "source": [
    "fun_default(3,msg='product',multiple=9)"
   ]
  },
  {
   "cell_type": "code",
   "execution_count": 17,
   "id": "8d6b034a-9f1a-4df7-93f3-70cdfa95e4b6",
   "metadata": {},
   "outputs": [
    {
     "name": "stdout",
     "output_type": "stream",
     "text": [
      "('product', 27)\n"
     ]
    }
   ],
   "source": [
    "fun_default(msg='product',multiple=9,number=3)"
   ]
  },
  {
   "cell_type": "markdown",
   "id": "7ac3f760-dc46-46c2-b635-565837a9c69b",
   "metadata": {},
   "source": [
    "*NOTE: keyword arguments must follow positional arguments, following won't work*"
   ]
  },
  {
   "cell_type": "code",
   "execution_count": 18,
   "id": "81516bb1-097c-4e40-887d-f30c484f5e69",
   "metadata": {},
   "outputs": [
    {
     "name": "stderr",
     "output_type": "stream",
     "text": [
      "  File \"<stdin>\", line 1\n",
      "SyntaxError: positional argument follows keyword argument\n"
     ]
    }
   ],
   "source": [
    "%%script python --no-raise-error\n",
    "fun_Default(msg=\"product\",4)"
   ]
  },
  {
   "cell_type": "markdown",
   "id": "a109bf9d-b075-46b5-82fb-a67dd031d4d4",
   "metadata": {},
   "source": [
    "*NOTE: It works only if all keywords included*"
   ]
  },
  {
   "cell_type": "code",
   "execution_count": 19,
   "id": "f88093a1-7c70-40a2-a280-024c06a3f8c1",
   "metadata": {},
   "outputs": [
    {
     "name": "stdout",
     "output_type": "stream",
     "text": [
      "('product', 27)\n"
     ]
    }
   ],
   "source": [
    "fun_default(msg='product',multiple=9,number=3)"
   ]
  },
  {
   "cell_type": "markdown",
   "id": "9d5fc45c-9644-4c45-8168-f2aacb5f5092",
   "metadata": {},
   "source": [
    "### Special parameters"
   ]
  },
  {
   "cell_type": "markdown",
   "id": "7c5591dd-17bd-4f06-9f7e-dc211d924814",
   "metadata": {},
   "source": [
    "#### Position only : don't allow callers to use keywords for arguments before /"
   ]
  },
  {
   "cell_type": "code",
   "execution_count": 20,
   "id": "4af9d719-ad7b-42b6-a2d8-ea4458922ea9",
   "metadata": {},
   "outputs": [],
   "source": [
    "def position_only(a, b, /):\n",
    "    print(a, b)"
   ]
  },
  {
   "cell_type": "code",
   "execution_count": 21,
   "id": "21997570-bf62-4b6a-8aac-c1c855d0d234",
   "metadata": {},
   "outputs": [
    {
     "name": "stdout",
     "output_type": "stream",
     "text": [
      "3 4\n"
     ]
    }
   ],
   "source": [
    "position_only(3,4) # works"
   ]
  },
  {
   "cell_type": "code",
   "execution_count": 22,
   "id": "51281353-607c-4f2d-ad7b-3d55031ed95d",
   "metadata": {},
   "outputs": [
    {
     "name": "stderr",
     "output_type": "stream",
     "text": [
      "Traceback (most recent call last):\n",
      "  File \"<stdin>\", line 1, in <module>\n",
      "NameError: name 'position_only' is not defined\n"
     ]
    }
   ],
   "source": [
    "%%script python --no-raise-error\n",
    "position_only(9,b=2) # doesn't work"
   ]
  },
  {
   "cell_type": "markdown",
   "id": "03372545-4b29-475b-a22a-3ea62343cece",
   "metadata": {},
   "source": [
    "#### Keywords only : Callers should provide keyword for each argument specified after *"
   ]
  },
  {
   "cell_type": "code",
   "execution_count": 23,
   "id": "c7a8ff5f-f377-4e3c-b44c-3a58cca612b6",
   "metadata": {},
   "outputs": [],
   "source": [
    "def keyword_only(*, a, b):\n",
    "    print(a, b)"
   ]
  },
  {
   "cell_type": "code",
   "execution_count": 24,
   "id": "9e88c3a2-02c9-4526-8314-4d06c781cec5",
   "metadata": {},
   "outputs": [
    {
     "name": "stdout",
     "output_type": "stream",
     "text": [
      "9 2\n"
     ]
    }
   ],
   "source": [
    "keyword_only(a=9,b=2)"
   ]
  },
  {
   "cell_type": "code",
   "execution_count": 25,
   "id": "524a5657-2fda-4642-9062-97e1a08068aa",
   "metadata": {},
   "outputs": [
    {
     "name": "stderr",
     "output_type": "stream",
     "text": [
      "Traceback (most recent call last):\n",
      "  File \"<stdin>\", line 1, in <module>\n",
      "NameError: name 'keyword_only' is not defined\n"
     ]
    }
   ],
   "source": [
    "%%script python --no-raise-error\n",
    "keyword_only(9,b=2) # doesn't work should provide keyword for 9"
   ]
  },
  {
   "cell_type": "markdown",
   "id": "47ce446b-6f9a-4048-80c4-5cfd76778090",
   "metadata": {},
   "source": [
    "#### Mixed : Positional, Standard and Keyword"
   ]
  },
  {
   "cell_type": "code",
   "execution_count": 26,
   "id": "27b45223-a7e9-4025-a251-ea26e945ae43",
   "metadata": {},
   "outputs": [],
   "source": [
    "# posonly : should be only given values, NO keywords allowed\n",
    "# standard : can use position as well as keywordx\n",
    "# keyword_only : can use only keywords, position cannot be used\n",
    "\n",
    "def mixed(posonly1, posonly2, /, standard1, standard2, *, keyword_only1, keyword_only2):\n",
    "    print(posonly1, posonly2, standard1, standard2, keyword_only1, keyword_only2)"
   ]
  },
  {
   "cell_type": "code",
   "execution_count": 27,
   "id": "84b1d494-f5ba-4b58-95e6-770305cf8b8c",
   "metadata": {},
   "outputs": [
    {
     "name": "stdout",
     "output_type": "stream",
     "text": [
      "2 3 2 4 0 9\n"
     ]
    }
   ],
   "source": [
    "mixed(2, 3, 2, standard2=4, keyword_only1=0, keyword_only2=9)"
   ]
  },
  {
   "cell_type": "markdown",
   "id": "5139a109-83db-4c53-b8e4-7e2fc5d190ad",
   "metadata": {},
   "source": [
    "#### Arguments captured as a tuple"
   ]
  },
  {
   "cell_type": "code",
   "execution_count": 28,
   "id": "eef9365c-95ce-4e54-8584-1832b27c0bd3",
   "metadata": {},
   "outputs": [],
   "source": [
    "# Arbitrary arguments : args after var-arg can only be keyword args, as var-arg eats up all the parameters passed\n",
    "def concat(*parts, sep=\"/\"):\n",
    "    print(parts) # Note: the parts is a tuple (future reference)\n",
    "    return sep.join(parts)"
   ]
  },
  {
   "cell_type": "code",
   "execution_count": 29,
   "id": "049e5f4d-9c2d-41c6-b966-8bcddb44c3e5",
   "metadata": {},
   "outputs": [
    {
     "name": "stdout",
     "output_type": "stream",
     "text": [
      "('a', 'b', 'c')\n"
     ]
    },
    {
     "data": {
      "text/plain": [
       "'a/b/c'"
      ]
     },
     "execution_count": 29,
     "metadata": {},
     "output_type": "execute_result"
    }
   ],
   "source": [
    "concat(\"a\",\"b\",\"c\")"
   ]
  },
  {
   "cell_type": "code",
   "execution_count": 30,
   "id": "5a1b861a-b91f-4981-86a6-267ab6f085f8",
   "metadata": {},
   "outputs": [
    {
     "name": "stdout",
     "output_type": "stream",
     "text": [
      "('a', 'b', 'c')\n"
     ]
    },
    {
     "data": {
      "text/plain": [
       "'a.b.c'"
      ]
     },
     "execution_count": 30,
     "metadata": {},
     "output_type": "execute_result"
    }
   ],
   "source": [
    "concat(\"a\",\"b\",\"c\",sep=\".\")"
   ]
  },
  {
   "cell_type": "markdown",
   "id": "ff560b1b-a911-4b5f-b2b9-a7114da64a80",
   "metadata": {},
   "source": [
    "#### Keyword arguments captured as a dictionary"
   ]
  },
  {
   "cell_type": "code",
   "execution_count": 31,
   "id": "5d886b5c-dede-42a2-ae40-773f5f6cf68f",
   "metadata": {},
   "outputs": [],
   "source": [
    "def operate(number,msg='hello',**kwargs):  # only non-matching keyword args are put into kwargs\n",
    "    print(number,msg)\n",
    "    print(kwargs)"
   ]
  },
  {
   "cell_type": "code",
   "execution_count": 32,
   "id": "6e85fa75-a335-41ed-a4fe-31b200ddc339",
   "metadata": {},
   "outputs": [
    {
     "name": "stdout",
     "output_type": "stream",
     "text": [
      "4 hi\n",
      "{'add': 3, 'subtract': 9}\n"
     ]
    }
   ],
   "source": [
    "operate(add=3,subtract=9,number=4,msg='hi')"
   ]
  },
  {
   "cell_type": "markdown",
   "id": "2104b121-dd79-4df1-9b5a-0f23a6a0d4de",
   "metadata": {},
   "source": [
    "#### Function namespace and inner instances"
   ]
  },
  {
   "cell_type": "code",
   "execution_count": 33,
   "id": "88722055-449b-4968-96ee-68c5f3811feb",
   "metadata": {},
   "outputs": [],
   "source": [
    "def outer(value):\n",
    "    # For every call for the outer function a new inner function is defined\n",
    "    def inner():\n",
    "        pass\n",
    "\n",
    "    # Values can be defined in the namespace of the function\n",
    "    # This value would be different for each returned function reference\n",
    "    inner.value = value\n",
    "    return inner"
   ]
  },
  {
   "cell_type": "code",
   "execution_count": 34,
   "id": "7051995c-b654-41e0-8fa0-11dc4ba9e5df",
   "metadata": {},
   "outputs": [],
   "source": [
    "first_call_result = outer(1)\n",
    "second_call_result = outer(2)"
   ]
  },
  {
   "cell_type": "code",
   "execution_count": 35,
   "id": "0866b1f6-5c0f-4a89-9e84-1dbe66a904f3",
   "metadata": {},
   "outputs": [
    {
     "name": "stdout",
     "output_type": "stream",
     "text": [
      "140530591016128 140530591017280\n",
      "Are the inner functions same?  False\n",
      "1 2\n"
     ]
    }
   ],
   "source": [
    "# Every time a new instance of inner function is returned\n",
    "print(id(first_call_result), id(second_call_result))\n",
    "print(\"Are the inner functions same? \", first_call_result == second_call_result)\n",
    "print(first_call_result.value, second_call_result.value)"
   ]
  },
  {
   "cell_type": "code",
   "execution_count": 36,
   "id": "2f11d9a7-a707-4760-8fc0-45e238567eed",
   "metadata": {},
   "outputs": [],
   "source": [
    "def get_adder(number):\n",
    "    def adder(addendum):\n",
    "        return number + addendum\n",
    "    return adder"
   ]
  },
  {
   "cell_type": "code",
   "execution_count": 37,
   "id": "93a1ce36-342b-4522-b854-235d94e08752",
   "metadata": {},
   "outputs": [],
   "source": [
    "adder = get_adder(5)\n"
   ]
  },
  {
   "cell_type": "code",
   "execution_count": 38,
   "id": "d51301ac-681c-447b-a35a-b75909ee8e21",
   "metadata": {},
   "outputs": [
    {
     "data": {
      "text/plain": [
       "8"
      ]
     },
     "execution_count": 38,
     "metadata": {},
     "output_type": "execute_result"
    }
   ],
   "source": [
    "adder(3)"
   ]
  },
  {
   "cell_type": "code",
   "execution_count": 39,
   "id": "24e6cd0a-ed6c-45bb-824f-9fcbad547046",
   "metadata": {},
   "outputs": [
    {
     "data": {
      "text/plain": [
       "0"
      ]
     },
     "execution_count": 39,
     "metadata": {},
     "output_type": "execute_result"
    }
   ],
   "source": [
    "adder(-5)"
   ]
  },
  {
   "cell_type": "code",
   "execution_count": null,
   "id": "de6ebabf-fd1a-4812-ac8e-ee56f494a2fb",
   "metadata": {},
   "outputs": [],
   "source": []
  }
 ],
 "metadata": {
  "kernelspec": {
   "display_name": "Python 3",
   "language": "python",
   "name": "python3"
  },
  "language_info": {
   "codemirror_mode": {
    "name": "ipython",
    "version": 3
   },
   "file_extension": ".py",
   "mimetype": "text/x-python",
   "name": "python",
   "nbconvert_exporter": "python",
   "pygments_lexer": "ipython3",
   "version": "3.8.1"
  }
 },
 "nbformat": 4,
 "nbformat_minor": 5
}
