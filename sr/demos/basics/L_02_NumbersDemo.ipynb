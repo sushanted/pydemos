{
 "cells": [
  {
   "cell_type": "code",
   "execution_count": 1,
   "id": "165f0153-88e6-425f-adbb-0907ccdc31e2",
   "metadata": {},
   "outputs": [
    {
     "data": {
      "text/plain": [
       "0"
      ]
     },
     "execution_count": 1,
     "metadata": {},
     "output_type": "execute_result"
    }
   ],
   "source": [
    "int() # TODO: what would be the practical use of this?"
   ]
  },
  {
   "cell_type": "code",
   "execution_count": 2,
   "id": "49f8c248-472d-4bb8-9427-03d7b2460ea6",
   "metadata": {
    "tags": []
   },
   "outputs": [
    {
     "data": {
      "text/plain": [
       "5"
      ]
     },
     "execution_count": 2,
     "metadata": {},
     "output_type": "execute_result"
    }
   ],
   "source": [
    "int(5)"
   ]
  },
  {
   "cell_type": "markdown",
   "id": "84be1908-d5b2-4648-8d91-06b1165a388f",
   "metadata": {},
   "source": [
    "#### Floating division"
   ]
  },
  {
   "cell_type": "code",
   "execution_count": 3,
   "id": "7ce710d6-01f9-4a9a-b1e9-6ab4edf4f933",
   "metadata": {},
   "outputs": [
    {
     "data": {
      "text/plain": [
       "1.6"
      ]
     },
     "execution_count": 3,
     "metadata": {},
     "output_type": "execute_result"
    }
   ],
   "source": [
    "8.0 / 5\n"
   ]
  },
  {
   "cell_type": "markdown",
   "id": "f2e9084b-9b23-44aa-a6ce-3b7aae968fd1",
   "metadata": {},
   "source": [
    "#### Floor division"
   ]
  },
  {
   "cell_type": "code",
   "execution_count": 4,
   "id": "fc6b36d8-2b69-4c1a-a9f7-8883e46e0837",
   "metadata": {},
   "outputs": [
    {
     "data": {
      "text/plain": [
       "1.0"
      ]
     },
     "execution_count": 4,
     "metadata": {},
     "output_type": "execute_result"
    }
   ],
   "source": [
    "8.0 // 5"
   ]
  },
  {
   "cell_type": "markdown",
   "id": "3497c960-f2c8-4a55-962f-886da7c41523",
   "metadata": {},
   "source": [
    "#### Power"
   ]
  },
  {
   "cell_type": "code",
   "execution_count": 5,
   "id": "db1f90b0-25c7-4c14-9c0f-8f41fde0c0a2",
   "metadata": {},
   "outputs": [
    {
     "data": {
      "text/plain": [
       "81"
      ]
     },
     "execution_count": 5,
     "metadata": {},
     "output_type": "execute_result"
    }
   ],
   "source": [
    "3 ** 4"
   ]
  },
  {
   "cell_type": "code",
   "execution_count": null,
   "id": "f37cbd5f-b2e0-478e-b8ff-8d48ed1286e6",
   "metadata": {},
   "outputs": [],
   "source": []
  }
 ],
 "metadata": {
  "kernelspec": {
   "display_name": "Python 3",
   "language": "python",
   "name": "python3"
  },
  "language_info": {
   "codemirror_mode": {
    "name": "ipython",
    "version": 3
   },
   "file_extension": ".py",
   "mimetype": "text/x-python",
   "name": "python",
   "nbconvert_exporter": "python",
   "pygments_lexer": "ipython3",
   "version": "3.8.1"
  }
 },
 "nbformat": 4,
 "nbformat_minor": 5
}
