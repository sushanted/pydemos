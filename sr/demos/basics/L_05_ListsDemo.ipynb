{
 "cells": [
  {
   "cell_type": "code",
   "execution_count": 1,
   "id": "7f3c53fd-e690-4a7a-bdeb-796fb0172636",
   "metadata": {},
   "outputs": [],
   "source": [
    "empty_list = list()"
   ]
  },
  {
   "cell_type": "code",
   "execution_count": 2,
   "id": "1610d292-b58e-4533-ba17-b958c850ede6",
   "metadata": {},
   "outputs": [
    {
     "data": {
      "text/plain": [
       "[]"
      ]
     },
     "execution_count": 2,
     "metadata": {},
     "output_type": "execute_result"
    }
   ],
   "source": [
    "empty_list"
   ]
  },
  {
   "cell_type": "code",
   "execution_count": 3,
   "id": "4c1cddcc-e4ea-4284-9728-806d459193b0",
   "metadata": {},
   "outputs": [],
   "source": [
    "another_empty_list = []"
   ]
  },
  {
   "cell_type": "code",
   "execution_count": 4,
   "id": "841b242f-adf5-48bb-b75c-391885dd3922",
   "metadata": {},
   "outputs": [
    {
     "data": {
      "text/plain": [
       "[]"
      ]
     },
     "execution_count": 4,
     "metadata": {},
     "output_type": "execute_result"
    }
   ],
   "source": [
    "another_empty_list"
   ]
  },
  {
   "cell_type": "code",
   "execution_count": 5,
   "id": "e2f21865-a609-4f06-9708-c071dec149e8",
   "metadata": {},
   "outputs": [],
   "source": [
    "the_list = [0,1,2,3,4,5]"
   ]
  },
  {
   "cell_type": "markdown",
   "id": "59f5a384-b720-4eb0-a6ea-46889df0d107",
   "metadata": {},
   "source": [
    "### 'in' and 'not in' operators on the list"
   ]
  },
  {
   "cell_type": "code",
   "execution_count": 6,
   "id": "caf4fc72-7321-4920-a441-03ea35460f17",
   "metadata": {},
   "outputs": [
    {
     "data": {
      "text/plain": [
       "True"
      ]
     },
     "execution_count": 6,
     "metadata": {},
     "output_type": "execute_result"
    }
   ],
   "source": [
    "# in operator to check exists\n",
    "\n",
    "1 in the_list"
   ]
  },
  {
   "cell_type": "code",
   "execution_count": 7,
   "id": "0f8f8e5a-3b2a-4779-bd8e-6f3085008414",
   "metadata": {},
   "outputs": [
    {
     "data": {
      "text/plain": [
       "False"
      ]
     },
     "execution_count": 7,
     "metadata": {},
     "output_type": "execute_result"
    }
   ],
   "source": [
    "9 in the_list"
   ]
  },
  {
   "cell_type": "code",
   "execution_count": 8,
   "id": "3cff45b1-c76e-4010-83d9-ef74ba796245",
   "metadata": {},
   "outputs": [
    {
     "name": "stdout",
     "output_type": "stream",
     "text": [
      "valid\n"
     ]
    }
   ],
   "source": [
    "# Some practicle use of 'in' operator\n",
    "\n",
    "i = 3\n",
    "\n",
    "print(\"valid\" if i in the_list else \"invalid\")"
   ]
  },
  {
   "cell_type": "code",
   "execution_count": 9,
   "id": "598d6062-9f13-4fd1-8aa3-37f55809028c",
   "metadata": {},
   "outputs": [
    {
     "data": {
      "text/plain": [
       "True"
      ]
     },
     "execution_count": 9,
     "metadata": {},
     "output_type": "execute_result"
    }
   ],
   "source": [
    "# 'not in' operator\n",
    "9 not in the_list"
   ]
  },
  {
   "cell_type": "markdown",
   "id": "19203908-e5d4-448d-bd90-7a61bbf8ba39",
   "metadata": {},
   "source": [
    "### Indexing and slicing"
   ]
  },
  {
   "cell_type": "code",
   "execution_count": 10,
   "id": "07f01bfe-7666-4cc1-84cb-8e025ce52235",
   "metadata": {},
   "outputs": [
    {
     "data": {
      "text/plain": [
       "3"
      ]
     },
     "execution_count": 10,
     "metadata": {},
     "output_type": "execute_result"
    }
   ],
   "source": [
    "the_list[3]"
   ]
  },
  {
   "cell_type": "code",
   "execution_count": 11,
   "id": "cdf12d44-2b42-4bc4-85f6-71ff72549655",
   "metadata": {},
   "outputs": [
    {
     "data": {
      "text/plain": [
       "[1, 2, 3]"
      ]
     },
     "execution_count": 11,
     "metadata": {},
     "output_type": "execute_result"
    }
   ],
   "source": [
    "# m to n including m excluding n\n",
    "the_list[1:4]"
   ]
  },
  {
   "cell_type": "code",
   "execution_count": 12,
   "id": "b28177fb-a344-4027-a06e-fdf6cc4d000d",
   "metadata": {},
   "outputs": [
    {
     "data": {
      "text/plain": [
       "[0, 1, 2]"
      ]
     },
     "execution_count": 12,
     "metadata": {},
     "output_type": "execute_result"
    }
   ],
   "source": [
    "# till n, excluding n\n",
    "the_list[:3]"
   ]
  },
  {
   "cell_type": "code",
   "execution_count": 13,
   "id": "0e8c3b4f-0500-4628-87fc-9f8f6b6a90f1",
   "metadata": {},
   "outputs": [
    {
     "data": {
      "text/plain": [
       "[4, 5]"
      ]
     },
     "execution_count": 13,
     "metadata": {},
     "output_type": "execute_result"
    }
   ],
   "source": [
    "# from m including m\n",
    "the_list[4:]"
   ]
  },
  {
   "cell_type": "code",
   "execution_count": 14,
   "id": "8ddb24cc-35b4-4c50-9e32-8dc13e8a620d",
   "metadata": {},
   "outputs": [
    {
     "data": {
      "text/plain": [
       "5"
      ]
     },
     "execution_count": 14,
     "metadata": {},
     "output_type": "execute_result"
    }
   ],
   "source": [
    "# from last\n",
    "the_list[-1]"
   ]
  },
  {
   "cell_type": "code",
   "execution_count": 15,
   "id": "e33f3156-acd1-4d77-8fbd-3158ad225ebf",
   "metadata": {},
   "outputs": [
    {
     "data": {
      "text/plain": [
       "[3, 4]"
      ]
     },
     "execution_count": 15,
     "metadata": {},
     "output_type": "execute_result"
    }
   ],
   "source": [
    "# reverse index\n",
    "# from last-m till last -n including last-m, excluding last-n\n",
    "the_list[-3:-1]"
   ]
  },
  {
   "cell_type": "code",
   "execution_count": 16,
   "id": "8bfeece4-feee-498d-a98b-0d14710bbc1f",
   "metadata": {},
   "outputs": [
    {
     "data": {
      "text/plain": [
       "[0, 1, 2, 3, 4]"
      ]
     },
     "execution_count": 16,
     "metadata": {},
     "output_type": "execute_result"
    }
   ],
   "source": [
    "# Excluding last 1 element, first to last-1 (excluding last-1)\n",
    "the_list[:-1]"
   ]
  },
  {
   "cell_type": "code",
   "execution_count": 17,
   "id": "ff3296e1-04ad-4a9c-b820-5f1cd39e8901",
   "metadata": {},
   "outputs": [
    {
     "data": {
      "text/plain": [
       "[0, 1, 2]"
      ]
     },
     "execution_count": 17,
     "metadata": {},
     "output_type": "execute_result"
    }
   ],
   "source": [
    "# Excluding last 3 element, first to last-3 (excluding last-3)\n",
    "the_list[:-3]"
   ]
  },
  {
   "cell_type": "code",
   "execution_count": 18,
   "id": "efb2734e-f389-47b7-9331-84a53e2bcca0",
   "metadata": {},
   "outputs": [
    {
     "data": {
      "text/plain": [
       "[1, 3, 5]"
      ]
     },
     "execution_count": 18,
     "metadata": {},
     "output_type": "execute_result"
    }
   ],
   "source": [
    "# 1 till 6 step 2\n",
    "the_list[1:6:2]"
   ]
  },
  {
   "cell_type": "code",
   "execution_count": 19,
   "id": "78b1a3f0-3915-4711-8cde-efbbda3c5702",
   "metadata": {},
   "outputs": [
    {
     "data": {
      "text/plain": [
       "[0, 2, 4]"
      ]
     },
     "execution_count": 19,
     "metadata": {},
     "output_type": "execute_result"
    }
   ],
   "source": [
    "# Even elements : with step 2\n",
    "the_list[::2]"
   ]
  },
  {
   "cell_type": "code",
   "execution_count": 20,
   "id": "5be076bf-f002-475d-86e2-746e0e0813fe",
   "metadata": {},
   "outputs": [
    {
     "data": {
      "text/plain": [
       "[1, 3, 5]"
      ]
     },
     "execution_count": 20,
     "metadata": {},
     "output_type": "execute_result"
    }
   ],
   "source": [
    "# Odd elements : with step 2\n",
    "the_list[1::2]"
   ]
  },
  {
   "cell_type": "code",
   "execution_count": 21,
   "id": "f3101a7d-f203-4558-a0a8-a4dc59b7749c",
   "metadata": {},
   "outputs": [
    {
     "name": "stdout",
     "output_type": "stream",
     "text": [
      "140479705873216\n",
      "140479705941504\n"
     ]
    }
   ],
   "source": [
    "print(id(the_list))\n",
    "print(id(the_list[::])) #  This is a different list "
   ]
  },
  {
   "cell_type": "markdown",
   "id": "6b1aec06-f751-4f52-8886-2eccba56a22c",
   "metadata": {},
   "source": [
    "### Concatenation"
   ]
  },
  {
   "cell_type": "code",
   "execution_count": 22,
   "id": "a35c3315-4904-4142-9555-926d7df3c867",
   "metadata": {},
   "outputs": [
    {
     "data": {
      "text/plain": [
       "[0, 1, 2, 3, 4, 5, 6, 7, 8]"
      ]
     },
     "execution_count": 22,
     "metadata": {},
     "output_type": "execute_result"
    }
   ],
   "source": [
    "new_list = the_list + [6,7] + [8]\n",
    "new_list"
   ]
  },
  {
   "cell_type": "code",
   "execution_count": 23,
   "id": "53fc4133-d1f8-486e-8814-8634c17aac89",
   "metadata": {},
   "outputs": [
    {
     "data": {
      "text/plain": [
       "[0, 1, 2, 3, 4, 5, 6, 7]"
      ]
     },
     "execution_count": 23,
     "metadata": {},
     "output_type": "execute_result"
    }
   ],
   "source": [
    "the_list += [6,7] # appending and then assigning to original list\n",
    "the_list"
   ]
  },
  {
   "cell_type": "markdown",
   "id": "fff0916f-0421-4076-b517-65437cc80cc6",
   "metadata": {},
   "source": [
    "### Multiply a list with scalar"
   ]
  },
  {
   "cell_type": "code",
   "execution_count": 24,
   "id": "affe38c9-2e8c-45ed-b770-e62c6413bb1f",
   "metadata": {},
   "outputs": [
    {
     "data": {
      "text/plain": [
       "[1, 2, 1, 2, 1, 2]"
      ]
     },
     "execution_count": 24,
     "metadata": {},
     "output_type": "execute_result"
    }
   ],
   "source": [
    "[1,2] * 3  # repeats all the elements"
   ]
  },
  {
   "cell_type": "code",
   "execution_count": 25,
   "id": "a5584f90-ab83-43a3-87b5-ad6aa807816f",
   "metadata": {},
   "outputs": [
    {
     "data": {
      "text/plain": [
       "[[1, 2], [1, 2], [1, 2]]"
      ]
     },
     "execution_count": 25,
     "metadata": {},
     "output_type": "execute_result"
    }
   ],
   "source": [
    "[[1,2]]*3 "
   ]
  },
  {
   "cell_type": "markdown",
   "id": "8bbb1552-a1cb-426d-871e-329c7763f00f",
   "metadata": {},
   "source": [
    "### Mutations"
   ]
  },
  {
   "cell_type": "code",
   "execution_count": 26,
   "id": "9c540a13-a7f4-4ac3-8450-2a36cb5ef6e4",
   "metadata": {},
   "outputs": [
    {
     "name": "stdout",
     "output_type": "stream",
     "text": [
      "7\n"
     ]
    },
    {
     "data": {
      "text/plain": [
       "[0, 1, 2, 3, 4, 5, 6, 6]"
      ]
     },
     "execution_count": 26,
     "metadata": {},
     "output_type": "execute_result"
    }
   ],
   "source": [
    "# change a single item\n",
    "\n",
    "print(the_list[-1])\n",
    "the_list[-1] = 6\n",
    "the_list"
   ]
  },
  {
   "cell_type": "code",
   "execution_count": 27,
   "id": "dfaafa92-2b24-482e-8f44-fa843ff289f6",
   "metadata": {},
   "outputs": [
    {
     "name": "stdout",
     "output_type": "stream",
     "text": [
      "[0, 1, 2, 3, 4, 5, 6, 6]\n"
     ]
    },
    {
     "data": {
      "text/plain": [
       "[0, 523, 4, 5, 6, 6]"
      ]
     },
     "execution_count": 27,
     "metadata": {},
     "output_type": "execute_result"
    }
   ],
   "source": [
    "# change multiple items (size of the list can change)\n",
    "print(the_list)\n",
    "the_list[1:4] = [523]\n",
    "the_list"
   ]
  },
  {
   "cell_type": "code",
   "execution_count": 28,
   "id": "8f2bad33-4701-4243-951a-057744b5f412",
   "metadata": {},
   "outputs": [
    {
     "data": {
      "text/plain": [
       "[0, 523, 4, 5, 6, 6, 34]"
      ]
     },
     "execution_count": 28,
     "metadata": {},
     "output_type": "execute_result"
    }
   ],
   "source": [
    "# append a single element\n",
    "\n",
    "the_list.append(34)\n",
    "the_list"
   ]
  },
  {
   "cell_type": "code",
   "execution_count": 29,
   "id": "aea07673-8671-43df-8be7-a73e08408751",
   "metadata": {},
   "outputs": [
    {
     "data": {
      "text/plain": [
       "[0, 523, 4, 5, 6, 6, 34, 1, 2, 3]"
      ]
     },
     "execution_count": 29,
     "metadata": {},
     "output_type": "execute_result"
    }
   ],
   "source": [
    "# extend with another list\n",
    "\n",
    "the_list.extend([1,2,3])\n",
    "the_list"
   ]
  },
  {
   "cell_type": "code",
   "execution_count": 30,
   "id": "f90c1128-145c-437f-9e9a-d3d303ee931e",
   "metadata": {},
   "outputs": [
    {
     "data": {
      "text/plain": [
       "[0, 5, 6, 6, 34, 1, 2, 3]"
      ]
     },
     "execution_count": 30,
     "metadata": {},
     "output_type": "execute_result"
    }
   ],
   "source": [
    "# make the slice empty\n",
    "\n",
    "the_list[1:3] = []\n",
    "the_list"
   ]
  },
  {
   "cell_type": "code",
   "execution_count": 31,
   "id": "6b85e195-d3c4-4cb7-ae97-b1e456e44c86",
   "metadata": {},
   "outputs": [
    {
     "data": {
      "text/plain": [
       "[0, 6, 34, 1, 2, 3]"
      ]
     },
     "execution_count": 31,
     "metadata": {},
     "output_type": "execute_result"
    }
   ],
   "source": [
    "del the_list[1:3]\n",
    "the_list"
   ]
  },
  {
   "cell_type": "code",
   "execution_count": 36,
   "id": "750e4b89-e8e6-4b9c-a50d-ae5ebd0cb9b3",
   "metadata": {},
   "outputs": [
    {
     "name": "stdout",
     "output_type": "stream",
     "text": [
      "6\n",
      "9\n"
     ]
    }
   ],
   "source": [
    "# unpacking list items\n",
    "\n",
    "def sum_all(a,b,c):\n",
    "    return a+b+c\n",
    "\n",
    "print(sum_all(*[1,2,3]))\n",
    "\n",
    "args = [2,3,4]\n",
    "\n",
    "print(sum_all(*args))\n",
    "\n"
   ]
  },
  {
   "cell_type": "code",
   "execution_count": 37,
   "id": "4108a8e0-0697-4bc0-8180-c48d9f8bd5ee",
   "metadata": {},
   "outputs": [
    {
     "name": "stdout",
     "output_type": "stream",
     "text": [
      "4 5 2\n"
     ]
    }
   ],
   "source": [
    "a,b,c = [4,5,2]\n",
    "\n",
    "print(a,b,c)"
   ]
  },
  {
   "cell_type": "code",
   "execution_count": null,
   "id": "4266a4fa-5a4a-4267-a491-eba0e28736cd",
   "metadata": {},
   "outputs": [],
   "source": []
  }
 ],
 "metadata": {
  "kernelspec": {
   "display_name": "Python 3",
   "language": "python",
   "name": "python3"
  },
  "language_info": {
   "codemirror_mode": {
    "name": "ipython",
    "version": 3
   },
   "file_extension": ".py",
   "mimetype": "text/x-python",
   "name": "python",
   "nbconvert_exporter": "python",
   "pygments_lexer": "ipython3",
   "version": "3.8.1"
  }
 },
 "nbformat": 4,
 "nbformat_minor": 5
}
