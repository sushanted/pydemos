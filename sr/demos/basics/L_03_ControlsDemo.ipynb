{
 "cells": [
  {
   "cell_type": "markdown",
   "id": "7e5d474d-c17c-44e2-a294-aac14f5cb665",
   "metadata": {},
   "source": [
    "#### if else-if and else"
   ]
  },
  {
   "cell_type": "code",
   "execution_count": 1,
   "id": "ad9aa273-a35f-4b51-b27b-8d6d5fb53d17",
   "metadata": {},
   "outputs": [
    {
     "name": "stdout",
     "output_type": "stream",
     "text": [
      "one\n"
     ]
    }
   ],
   "source": [
    "\n",
    "number = 1\n",
    "if number == 1:\n",
    "    print(\"one\")\n",
    "elif number == 2:\n",
    "    print(\"two\")\n",
    "else:\n",
    "    print(\"more than two\")"
   ]
  },
  {
   "cell_type": "markdown",
   "id": "247d1d7e-eb80-418b-826b-4fee06072790",
   "metadata": {},
   "source": [
    "#### Ternary operator equivalent statement : number % 2 == 1 ? \"odd\":\"even\"\n"
   ]
  },
  {
   "cell_type": "code",
   "execution_count": 2,
   "id": "beb2a8e5-f6b5-4e33-840c-90931f2dc33d",
   "metadata": {},
   "outputs": [
    {
     "name": "stdout",
     "output_type": "stream",
     "text": [
      "4 is even\n",
      "5 is odd\n"
     ]
    }
   ],
   "source": [
    "number = 4\n",
    "number_type = \"odd\" if number % 2 == 1 else \"even\"\n",
    "print(f\"{number} is {number_type}\")\n",
    "\n",
    "number = 5\n",
    "number_type = \"odd\" if number % 2 == 1 else \"even\"\n",
    "print(f\"{number} is {number_type}\")\n",
    "\n"
   ]
  },
  {
   "cell_type": "markdown",
   "id": "a5215b81-889e-4ffc-afec-872772a2644d",
   "metadata": {},
   "source": [
    "#### for loop"
   ]
  },
  {
   "cell_type": "code",
   "execution_count": 3,
   "id": "37ce63ae-0926-48ca-82e1-d73dffa3018c",
   "metadata": {},
   "outputs": [
    {
     "name": "stdout",
     "output_type": "stream",
     "text": [
      "w\n",
      "o\n",
      "r\n",
      "d\n"
     ]
    }
   ],
   "source": [
    "for chr in \"word\":\n",
    "    print(chr)"
   ]
  },
  {
   "cell_type": "markdown",
   "id": "518c63f6-4f67-4226-b5e1-68fae78ff403",
   "metadata": {},
   "source": [
    "### Ranges"
   ]
  },
  {
   "cell_type": "code",
   "execution_count": 4,
   "id": "3fb30c67-4e12-49bc-8127-595e6f1601cb",
   "metadata": {},
   "outputs": [
    {
     "name": "stdout",
     "output_type": "stream",
     "text": [
      "0\n",
      "1\n",
      "2\n",
      "3\n",
      "4\n"
     ]
    }
   ],
   "source": [
    "for i in range(5):\n",
    "    print(i)"
   ]
  },
  {
   "cell_type": "code",
   "execution_count": 5,
   "id": "3ca186fd-347e-46dc-97c5-8ba1c4884770",
   "metadata": {},
   "outputs": [
    {
     "name": "stdout",
     "output_type": "stream",
     "text": [
      "3\n",
      "4\n",
      "5\n",
      "6\n"
     ]
    }
   ],
   "source": [
    "for i in range(3,7): # from 3 till 7 (excluding 7) # for(i=3;i<7;i++)\n",
    "    print(i)"
   ]
  },
  {
   "cell_type": "code",
   "execution_count": 6,
   "id": "ce5879cf-5081-4169-94b1-6a0a5097e080",
   "metadata": {},
   "outputs": [
    {
     "name": "stdout",
     "output_type": "stream",
     "text": [
      "1\n",
      "3\n",
      "5\n",
      "7\n",
      "9\n"
     ]
    }
   ],
   "source": [
    "for i in range(1,10,2): # for(i=1;i<10;i=i+2)\n",
    "    print(i)"
   ]
  },
  {
   "cell_type": "markdown",
   "id": "a2a4b604-b33f-4b8c-ac52-0d369c3b3fbd",
   "metadata": {},
   "source": [
    "##### Note: range gives out an iterable and not a list"
   ]
  },
  {
   "cell_type": "code",
   "execution_count": 7,
   "id": "6d79a53c-6ee0-4bc0-89e6-b5c9b8609752",
   "metadata": {},
   "outputs": [
    {
     "name": "stdout",
     "output_type": "stream",
     "text": [
      "range(0, 4)\n"
     ]
    }
   ],
   "source": [
    "print(range(4))"
   ]
  },
  {
   "cell_type": "code",
   "execution_count": 8,
   "id": "6ddeaed7-c0a0-4a66-8d19-9f322956bc57",
   "metadata": {},
   "outputs": [
    {
     "name": "stdout",
     "output_type": "stream",
     "text": [
      "<class 'range'>\n"
     ]
    }
   ],
   "source": [
    "print(type(range(4)))"
   ]
  },
  {
   "cell_type": "markdown",
   "id": "58f52d3e-9132-4f9a-b822-e211fa3846fc",
   "metadata": {},
   "source": [
    "##### Converting range to a concrete list"
   ]
  },
  {
   "cell_type": "code",
   "execution_count": 9,
   "id": "7d163a68-4c57-48a6-8aaa-e901c6e6645b",
   "metadata": {},
   "outputs": [
    {
     "data": {
      "text/plain": [
       "[0, 1, 2, 3]"
      ]
     },
     "execution_count": 9,
     "metadata": {},
     "output_type": "execute_result"
    }
   ],
   "source": [
    "list(range(4))"
   ]
  },
  {
   "cell_type": "code",
   "execution_count": 10,
   "id": "77cb9e08-6138-4b98-811a-1eac792d5b21",
   "metadata": {},
   "outputs": [
    {
     "data": {
      "text/plain": [
       "12"
      ]
     },
     "execution_count": 10,
     "metadata": {},
     "output_type": "execute_result"
    }
   ],
   "source": [
    "sum(range(3,6))"
   ]
  },
  {
   "cell_type": "markdown",
   "id": "1df0fee6-2948-4dec-92d1-1fe171bcbc85",
   "metadata": {},
   "source": [
    "#### 'break' and 'else' for 'for loop'"
   ]
  },
  {
   "cell_type": "code",
   "execution_count": 11,
   "id": "a985297a-6eb0-4330-8cfd-af12f357db0f",
   "metadata": {},
   "outputs": [
    {
     "name": "stdout",
     "output_type": "stream",
     "text": [
      "visited 0\n",
      "visited 1\n",
      "visited 2\n",
      "visited 3\n",
      "All numbers visited!\n"
     ]
    }
   ],
   "source": [
    "for i in range(0,4):\n",
    "    print(f\"visited {i}\")\n",
    "else:\n",
    "    print(\"All numbers visited!\")"
   ]
  },
  {
   "cell_type": "code",
   "execution_count": 12,
   "id": "18329220-7141-41ab-852d-7437104e8be1",
   "metadata": {},
   "outputs": [
    {
     "name": "stdout",
     "output_type": "stream",
     "text": [
      "visited 0\n",
      "visited 1\n",
      "visited 2\n",
      "visited 3\n"
     ]
    }
   ],
   "source": [
    "for i in range(0,4):\n",
    "    print(f\"visited {i}\")\n",
    "    if i==3:\n",
    "        break # don't visit any next number\n",
    "else:\n",
    "    print(\"This will not be printed, as numbers after 3 are not visited!\")\n"
   ]
  },
  {
   "cell_type": "markdown",
   "id": "9c434e2a-b118-489f-959d-ea413ba532b6",
   "metadata": {},
   "source": [
    "##### Practical applications of 'else' for a 'for loop':"
   ]
  },
  {
   "cell_type": "code",
   "execution_count": 13,
   "id": "1f44bcc9-a576-45bb-a959-9fbc87b00f02",
   "metadata": {},
   "outputs": [
    {
     "name": "stdout",
     "output_type": "stream",
     "text": [
      "2 is a prime number\n",
      "3 is a prime number\n",
      "4 = 2 * 2\n",
      "5 is a prime number\n",
      "6 = 2 * 3\n",
      "7 is a prime number\n",
      "8 = 2 * 4\n",
      "9 = 3 * 3\n"
     ]
    }
   ],
   "source": [
    "for n in range(2, 10):\n",
    "    for x in range(2, n):\n",
    "        if n % x == 0:\n",
    "            print(f\"{n} = {x} * {n // x}\")\n",
    "            break\n",
    "    else:\n",
    "        # loop fell through without finding a factor\n",
    "        print(f'{n} is a prime number')"
   ]
  },
  {
   "cell_type": "markdown",
   "id": "b37da082-8e89-4b54-8e7a-abbcea9db6fc",
   "metadata": {},
   "source": [
    "##### 'else' for a 'while loop':"
   ]
  },
  {
   "cell_type": "code",
   "execution_count": 14,
   "id": "2549e68d-5b12-40d1-894c-67baaf8229e7",
   "metadata": {},
   "outputs": [
    {
     "name": "stdout",
     "output_type": "stream",
     "text": [
      "i was >= 10 at the start, while loop didn't execute\n"
     ]
    }
   ],
   "source": [
    "i = 10\n",
    "while (i < 10):\n",
    "    print(\"This will not be printed\")\n",
    "else:\n",
    "    print(\"i was >= 10 at the start, while loop didn't execute\")"
   ]
  },
  {
   "cell_type": "markdown",
   "id": "d9459813-a53e-406f-ac40-e43384597704",
   "metadata": {},
   "source": [
    "#### continue"
   ]
  },
  {
   "cell_type": "code",
   "execution_count": 15,
   "id": "f68abc0f-a845-41ce-a3a9-d208cdc3743e",
   "metadata": {},
   "outputs": [
    {
     "name": "stdout",
     "output_type": "stream",
     "text": [
      "Number not divisible by 3 : 1\n",
      "Number not divisible by 3 : 2\n",
      "Number not divisible by 3 : 4\n",
      "Number not divisible by 3 : 5\n",
      "Number not divisible by 3 : 7\n",
      "Number not divisible by 3 : 8\n"
     ]
    }
   ],
   "source": [
    "for i in range(0, 10):\n",
    "    if (i % 3 == 0):\n",
    "        continue;\n",
    "    print(\"Number not divisible by 3 :\", i)"
   ]
  },
  {
   "cell_type": "markdown",
   "id": "45b4f901-6559-4ea8-a094-f6771d3b46c8",
   "metadata": {},
   "source": [
    "##### Note : Python needs this because it is indentation based : effectively it is empty curly braces"
   ]
  },
  {
   "cell_type": "code",
   "execution_count": 16,
   "id": "0ea88fab-b33f-42ac-8b46-ed9847ea95f2",
   "metadata": {},
   "outputs": [],
   "source": [
    "for i in range(1, 4):\n",
    "    pass"
   ]
  },
  {
   "cell_type": "markdown",
   "id": "2eff93d3-7422-431c-a4fc-d243c3a9a485",
   "metadata": {},
   "source": [
    "##### Another example of else of a for loop (Needs a forward reference of Functions chapter):"
   ]
  },
  {
   "cell_type": "code",
   "execution_count": 17,
   "id": "bbebe2cc-aa7c-4649-9526-279998d2aec9",
   "metadata": {},
   "outputs": [
    {
     "name": "stdout",
     "output_type": "stream",
     "text": [
      "Computing factors of: 16\n",
      "Computing factors of: 8\n",
      "Computing factors of: 4\n",
      "Computing factors of: 2\n",
      "Computing factors of: 1\n",
      "Factors of 16: [2, 2, 2, 2]\n"
     ]
    }
   ],
   "source": [
    "def factorize(number):\n",
    "    print(\"Computing factors of:\", number)\n",
    "    for factor in range(2, (number // 2) + 2):\n",
    "        if number % factor == 0:\n",
    "            return [factor] + factorize(number // factor)\n",
    "    else:\n",
    "        if number == 1:\n",
    "            return []\n",
    "        # No factor could break the number, i.e. it is the prime number\n",
    "        return [number]\n",
    "\n",
    "\n",
    "print(\"Factors of 16:\", factorize(16))"
   ]
  }
 ],
 "metadata": {
  "kernelspec": {
   "display_name": "Python 3",
   "language": "python",
   "name": "python3"
  },
  "language_info": {
   "codemirror_mode": {
    "name": "ipython",
    "version": 3
   },
   "file_extension": ".py",
   "mimetype": "text/x-python",
   "name": "python",
   "nbconvert_exporter": "python",
   "pygments_lexer": "ipython3",
   "version": "3.8.1"
  }
 },
 "nbformat": 4,
 "nbformat_minor": 5
}
